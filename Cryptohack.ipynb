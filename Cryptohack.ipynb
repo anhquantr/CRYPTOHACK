{
  "cells": [
    {
      "cell_type": "markdown",
      "metadata": {
        "id": "view-in-github",
        "colab_type": "text"
      },
      "source": [
        "<a href=\"https://colab.research.google.com/github/anhquantr/CRYPTOHACK/blob/main/Cryptohack.ipynb\" target=\"_parent\"><img src=\"https://colab.research.google.com/assets/colab-badge.svg\" alt=\"Open In Colab\"/></a>"
      ]
    },
    {
      "cell_type": "markdown",
      "source": [
        "**ASCII** is a 7-bit encoding standard which allows the representation of text using the integers 0-127.\n",
        "Using the below integer array, convert the numbers to their corresponding **ASCII** characters to obtain a flag.\n",
        "\n",
        "[99, 114, 121, 112, 116, 111, 123, 65, 83, 67, 73, 73, 95, 112, 114, 49, 110, 116, 52, 98, 108, 51, 125]"
      ],
      "metadata": {
        "id": "Q5cKFaOPaQov"
      }
    },
    {
      "cell_type": "code",
      "source": [
        "code = [99, 114, 121, 112, 116, 111, 123, 65, 83, 67, 73, 73, 95, 112, 114, 49, 110, 116, 52, 98, 108, 51, 125]\n",
        "flag = ''\n",
        "for i in code:\n",
        "    flag += chr(i)\n",
        "print(flag)"
      ],
      "metadata": {
        "id": "Cvy61bON-QqT",
        "outputId": "4ce2ece2-2cd1-4725-edcc-ec6ef15fde5b",
        "colab": {
          "base_uri": "https://localhost:8080/"
        }
      },
      "execution_count": null,
      "outputs": [
        {
          "output_type": "stream",
          "name": "stdout",
          "text": [
            "crypto{ASCII_pr1nt4bl3}\n"
          ]
        }
      ]
    },
    {
      "cell_type": "markdown",
      "source": [
        "When we encrypt something the resulting ciphertext commonly has bytes which are not printable ASCII characters. If we want to share our encrypted data, it's common to encode it into something more user-friendly and portable across different systems.\n",
        "Included below is a flag encoded as a **hex** string. Decode this back into bytes to get the flag.\n",
        "*63727970746f7b596f755f77696c6c5f62655f776f726b696e675f776974685f6865785f737472696e67735f615f6c6f747d*"
      ],
      "metadata": {
        "id": "9JY_tl_0aeuN"
      }
    },
    {
      "cell_type": "code",
      "source": [
        "hex = '63727970746f7b596f755f77696c6c5f62655f776f726b696e675f776974685f6865785f737472696e67735f615f6c6f747d'\n",
        "data = bytes.fromhex(hex)\n",
        "print(data)"
      ],
      "metadata": {
        "id": "NEgJVpIl-RE1",
        "outputId": "4043b9de-8e8d-4b67-83f9-a3e94520391c",
        "colab": {
          "base_uri": "https://localhost:8080/"
        }
      },
      "execution_count": null,
      "outputs": [
        {
          "output_type": "stream",
          "name": "stdout",
          "text": [
            "b'crypto{You_will_be_working_with_hex_strings_a_lot}'\n"
          ]
        }
      ]
    },
    {
      "cell_type": "markdown",
      "source": [
        "Another common encoding scheme is **Base64**, which allows us to represent binary data as an ASCII string using 64 characters. One character of a **Base64** string encodes 6 bits, and so 4 characters of Base64 encode three 8-bit bytes.\n",
        "**Base64** is most commonly used online, so binary data such as images can be easily included into HTML or CSS files.\n",
        "Take the below hex string, decode it into bytes and then encode it into **Base64**.\n",
        "\n",
        "*72bca9b68fc16ac7beeb8f849dca1d8a783e8acf9679bf9269f7bf*"
      ],
      "metadata": {
        "id": "VHugI_v_ay6s"
      }
    },
    {
      "cell_type": "code",
      "source": [
        "import base64\n",
        "hex='72bca9b68fc16ac7beeb8f849dca1d8a783e8acf9679bf9269f7bf'\n",
        "data=bytes.fromhex(hex)\n",
        "flag=base64.b64encode(data)\n",
        "print(flag)"
      ],
      "metadata": {
        "id": "wEjFuDPXO4QQ",
        "outputId": "a93f5b54-2e8d-4740-c8a1-1008fc71138d",
        "colab": {
          "base_uri": "https://localhost:8080/"
        }
      },
      "execution_count": null,
      "outputs": [
        {
          "output_type": "stream",
          "name": "stdout",
          "text": [
            "b'r\\xbc\\xa9\\xb6\\x8f\\xc1j\\xc7\\xbe\\xeb\\x8f\\x84\\x9d\\xca\\x1d\\x8ax>\\x8a\\xcf\\x96y\\xbf\\x92i\\xf7\\xbf'\n",
            "b'crypto/Base+64+Encoding+is+Web+Safe/'\n"
          ]
        }
      ]
    },
    {
      "cell_type": "markdown",
      "source": [
        "Cryptosystems like RSA works on numbers, but messages are made up of characters. How should we convert our messages into numbers so that mathematical operations can be applied?\n",
        "\n",
        "The most common way is to take the ordinal bytes of the message, convert them into hexadecimal, and concatenate. This can be interpreted as a base-16 number, and also represented in **base-10**.\n",
        "*11515195063862318899931685488813747395775516287289682636499965282714637259206269*"
      ],
      "metadata": {
        "id": "oMa0gFq0a9hq"
      }
    },
    {
      "cell_type": "code",
      "source": [
        "!pip install pycryptodome==3.4.3"
      ],
      "metadata": {
        "id": "lXDEj0h8UDJa",
        "colab": {
          "base_uri": "https://localhost:8080/"
        },
        "outputId": "ac787449-2434-498f-f595-635451bdad6a"
      },
      "execution_count": null,
      "outputs": [
        {
          "output_type": "stream",
          "name": "stdout",
          "text": [
            "Requirement already satisfied: pycryptodome==3.4.3 in /usr/local/lib/python3.7/dist-packages (3.4.3)\n"
          ]
        }
      ]
    },
    {
      "cell_type": "code",
      "source": [
        "from Crypto.Util.number import *\n",
        "data=11515195063862318899931685488813747395775516287289682636499965282714637259206269\n",
        "flag = long_to_bytes(data)\n",
        "print(flag)"
      ],
      "metadata": {
        "id": "Jt_kNazbUZDH",
        "outputId": "b11773ea-a884-408d-fe10-79992a1b7c7e",
        "colab": {
          "base_uri": "https://localhost:8080/"
        }
      },
      "execution_count": null,
      "outputs": [
        {
          "output_type": "stream",
          "name": "stdout",
          "text": [
            "b'crypto{3nc0d1n6_4ll_7h3_w4y_d0wn}'\n"
          ]
        }
      ]
    },
    {
      "cell_type": "markdown",
      "source": [
        ""
      ],
      "metadata": {
        "id": "tjnfDTb1ntTM"
      }
    },
    {
      "cell_type": "code",
      "source": [
        "str=\"label\"\n",
        "flag=''\n",
        "for i in str:\n",
        "  flag += chr(ord(i)^13)\n",
        "print(flag)"
      ],
      "metadata": {
        "colab": {
          "base_uri": "https://localhost:8080/"
        },
        "id": "JbqCxg2oyE5z",
        "outputId": "11d475ac-98d7-445b-eaa8-509a142c2d94"
      },
      "execution_count": null,
      "outputs": [
        {
          "output_type": "stream",
          "name": "stdout",
          "text": [
            "aloha\n"
          ]
        }
      ]
    },
    {
      "cell_type": "code",
      "source": [
        "from binascii import unhexlify\n",
        "\n",
        "def xor_two_str(str1,str2):\n",
        "    if len(str1) != len(str2):\n",
        "        return\n",
        "    return ''.join(format(int(a, 16) ^ int(b, 16), 'x') for a,b in zip(str1,str2))\n",
        "\n",
        "KEY1 = \"a6c8b6733c9b22de7bc0253266a3867df55acde8635e19c73313\"\n",
        "KEY2 = xor_two_str(\"37dcb292030faa90d07eec17e3b1c6d8daf94c35d4c9191a5e1e\", KEY1)\n",
        "KEY3 = xor_two_str(\"c1545756687e7573db23aa1c3452a098b71a7fbf0fddddde5fc1\", KEY2)\n",
        "KEY4 = xor_two_str(xor_two_str(KEY1, KEY2), KEY3)\n",
        "\n",
        "FLAG = xor_two_str(\"04ee9855208a2cd59091d04767ae47963170d1660df7f56f5faf\", KEY4)\n",
        "\n",
        "print(unhexlify(FLAG))"
      ],
      "metadata": {
        "colab": {
          "base_uri": "https://localhost:8080/"
        },
        "id": "5GgtAWjr9MUB",
        "outputId": "fc854938-310d-41e0-feb5-042dc7c23456"
      },
      "execution_count": null,
      "outputs": [
        {
          "output_type": "stream",
          "name": "stdout",
          "text": [
            "b'crypto{x0r_i5_ass0c1at1v3}'\n"
          ]
        }
      ]
    },
    {
      "cell_type": "code",
      "source": [
        "def gcd_euclid(p, q):\n",
        "    if q==0 :\n",
        "        return p\n",
        "    else:\n",
        "        r = p%q\n",
        "        return gcd_euclid(q, r)\n",
        "\n",
        "print(gcd_euclid(66528,52920))"
      ],
      "metadata": {
        "id": "yNhfs6vIKbOi",
        "colab": {
          "base_uri": "https://localhost:8080/"
        },
        "outputId": "3c0e30d0-59bf-44b4-c2ba-ff0d5e895bb7"
      },
      "execution_count": 27,
      "outputs": [
        {
          "output_type": "stream",
          "name": "stdout",
          "text": [
            "1512\n"
          ]
        }
      ]
    },
    {
      "cell_type": "code",
      "source": [
        "def gcdExtended(p, q): \n",
        "    if p == 0 :  \n",
        "        return q,0,1\n",
        "             \n",
        "    gcd,x1,y1 = gcdExtended(q%p, p) \n",
        "     \n",
        "    x = y1 - (q//p) * x1 \n",
        "    y = x1 \n",
        "     \n",
        "    return gcd,x,y\n",
        "\n",
        "gcd, u, v = gcdExtended(26513, 32321)\n",
        "print(\"u:\",u)\n",
        "print(\"v:\",v)"
      ],
      "metadata": {
        "colab": {
          "base_uri": "https://localhost:8080/"
        },
        "id": "9HwldWnf34s8",
        "outputId": "32e65886-adc3-4a94-e352-b8de0094c08e"
      },
      "execution_count": 10,
      "outputs": [
        {
          "output_type": "stream",
          "name": "stdout",
          "text": [
            "u: 10245\n",
            "v: -8404\n"
          ]
        }
      ]
    },
    {
      "cell_type": "code",
      "source": [
        "print(min(11%6 , 8146798528947%17))"
      ],
      "metadata": {
        "colab": {
          "base_uri": "https://localhost:8080/"
        },
        "id": "IgLYxxny_fmw",
        "outputId": "26676801-04fd-4b68-a5bd-c7a20bcedd7e"
      },
      "execution_count": 14,
      "outputs": [
        {
          "output_type": "stream",
          "name": "stdout",
          "text": [
            "4\n"
          ]
        }
      ]
    },
    {
      "cell_type": "code",
      "source": [
        "def modinv(a,m):\n",
        "    for b in range(m):\n",
        "        if (a*b) % m == 1:\n",
        "            return b\n",
        "\n",
        "print(modinv(3,13))"
      ],
      "metadata": {
        "colab": {
          "base_uri": "https://localhost:8080/"
        },
        "id": "53hsAGeZCkuh",
        "outputId": "5dc0c1f2-ca33-4589-d74b-7b83080b7148"
      },
      "execution_count": 23,
      "outputs": [
        {
          "output_type": "stream",
          "name": "stdout",
          "text": [
            "9\n"
          ]
        }
      ]
    },
    {
      "cell_type": "code",
      "source": [
        "KEY1 = \"a6c8b6733c9b22de7bc0253266a3867df55acde8635e19c73313\"\n",
        "KEY2_KEY1 = bytes.fromhex(KEY1)\n",
        "KEY2_KEY3 = bytes.fromhex(\"c1545756687e7573db23aa1c3452a098b71a7fbf0fddddde5fc1\")\n",
        "FLAG_KEY1_KEY2_KEY3=bytes.fromhex(\"04ee9855208a2cd59091d04767ae47963170d1660df7f56f5faf\")\n",
        "\n",
        "flag = bytes([A^B^C for A,B,C in zip(KEY2_KEY1, KEY2_KEY3, FLAG_KEY1_KEY2_KEY3)])\n",
        "print(flag)"
      ],
      "metadata": {
        "colab": {
          "base_uri": "https://localhost:8080/"
        },
        "id": "FC5eS94bMOsT",
        "outputId": "23db0dbd-e3b7-4a46-b2d3-20e2f0cee79e"
      },
      "execution_count": 26,
      "outputs": [
        {
          "output_type": "stream",
          "name": "stdout",
          "text": [
            "b'crypto{x0r_i5_ass0c1at1v3}'\n"
          ]
        }
      ]
    }
  ],
  "metadata": {
    "colab": {
      "collapsed_sections": [],
      "name": "Cryptohack",
      "provenance": [],
      "include_colab_link": true
    },
    "kernelspec": {
      "display_name": "Python 3",
      "name": "python3"
    }
  },
  "nbformat": 4,
  "nbformat_minor": 0
}