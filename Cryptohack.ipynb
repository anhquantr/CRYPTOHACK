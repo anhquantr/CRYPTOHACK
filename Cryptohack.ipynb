{
  "cells": [
    {
      "cell_type": "markdown",
      "metadata": {
        "id": "view-in-github",
        "colab_type": "text"
      },
      "source": [
        "<a href=\"https://colab.research.google.com/github/taquan17/CRYPTOHACK/blob/main/Cryptohack.ipynb\" target=\"_parent\"><img src=\"https://colab.research.google.com/assets/colab-badge.svg\" alt=\"Open In Colab\"/></a>"
      ]
    },
    {
      "cell_type": "markdown",
      "source": [
        "**ASCII** is a 7-bit encoding standard which allows the representation of text using the integers 0-127.\n",
        "Using the below integer array, convert the numbers to their corresponding **ASCII** characters to obtain a flag.\n",
        "\n",
        "[99, 114, 121, 112, 116, 111, 123, 65, 83, 67, 73, 73, 95, 112, 114, 49, 110, 116, 52, 98, 108, 51, 125]"
      ],
      "metadata": {
        "id": "Q5cKFaOPaQov"
      }
    },
    {
      "cell_type": "code",
      "source": [
        "code = [99, 114, 121, 112, 116, 111, 123, 65, 83, 67, 73, 73, 95, 112, 114, 49, 110, 116, 52, 98, 108, 51, 125]\n",
        "flag = ''\n",
        "for i in code:\n",
        "    flag += chr(i)\n",
        "print(flag)"
      ],
      "metadata": {
        "id": "Cvy61bON-QqT",
        "outputId": "3f8d4ab0-3c61-4a39-98f1-e39e7ea1b468",
        "colab": {
          "base_uri": "https://localhost:8080/"
        }
      },
      "execution_count": null,
      "outputs": [
        {
          "output_type": "stream",
          "name": "stdout",
          "text": [
            "crypto{ASCII_pr1nt4bl3}\n"
          ]
        }
      ]
    },
    {
      "cell_type": "markdown",
      "source": [
        "When we encrypt something the resulting ciphertext commonly has bytes which are not printable ASCII characters. If we want to share our encrypted data, it's common to encode it into something more user-friendly and portable across different systems.\n",
        "Included below is a flag encoded as a **hex** string. Decode this back into bytes to get the flag.\n",
        "*63727970746f7b596f755f77696c6c5f62655f776f726b696e675f776974685f6865785f737472696e67735f615f6c6f747d*"
      ],
      "metadata": {
        "id": "9JY_tl_0aeuN"
      }
    },
    {
      "cell_type": "code",
      "source": [
        "hex = '63727970746f7b596f755f77696c6c5f62655f776f726b696e675f776974685f6865785f737472696e67735f615f6c6f747d'\n",
        "data = bytes.fromhex(hex)\n",
        "print(data)"
      ],
      "metadata": {
        "id": "NEgJVpIl-RE1",
        "outputId": "4e9d2c61-2ed9-4687-f38c-372a8637dded",
        "colab": {
          "base_uri": "https://localhost:8080/"
        }
      },
      "execution_count": null,
      "outputs": [
        {
          "output_type": "stream",
          "name": "stdout",
          "text": [
            "b'crypto{You_will_be_working_with_hex_strings_a_lot}'\n"
          ]
        }
      ]
    },
    {
      "cell_type": "markdown",
      "source": [
        "Another common encoding scheme is **Base64**, which allows us to represent binary data as an ASCII string using 64 characters. One character of a **Base64** string encodes 6 bits, and so 4 characters of Base64 encode three 8-bit bytes.\n",
        "**Base64** is most commonly used online, so binary data such as images can be easily included into HTML or CSS files.\n",
        "Take the below hex string, decode it into bytes and then encode it into **Base64**.\n",
        "\n",
        "*72bca9b68fc16ac7beeb8f849dca1d8a783e8acf9679bf9269f7bf*"
      ],
      "metadata": {
        "id": "VHugI_v_ay6s"
      }
    },
    {
      "cell_type": "code",
      "source": [
        "import base64\n",
        "hex='72bca9b68fc16ac7beeb8f849dca1d8a783e8acf9679bf9269f7bf'\n",
        "data=bytes.fromhex(hex)\n",
        "flag=base64.b64encode(data)\n",
        "print(flag)"
      ],
      "metadata": {
        "id": "wEjFuDPXO4QQ",
        "outputId": "f0b77df5-bc83-4d23-83ca-83c6f763f983",
        "colab": {
          "base_uri": "https://localhost:8080/"
        }
      },
      "execution_count": null,
      "outputs": [
        {
          "output_type": "stream",
          "name": "stdout",
          "text": [
            "b'crypto/Base+64+Encoding+is+Web+Safe/'\n"
          ]
        }
      ]
    },
    {
      "cell_type": "markdown",
      "source": [
        "Cryptosystems like RSA works on numbers, but messages are made up of characters. How should we convert our messages into numbers so that mathematical operations can be applied?\n",
        "\n",
        "The most common way is to take the ordinal bytes of the message, convert them into hexadecimal, and concatenate. This can be interpreted as a base-16 number, and also represented in **base-10**.\n",
        "*11515195063862318899931685488813747395775516287289682636499965282714637259206269*"
      ],
      "metadata": {
        "id": "oMa0gFq0a9hq"
      }
    },
    {
      "cell_type": "code",
      "source": [
        "!pip install pycryptodome==3.4.3"
      ],
      "metadata": {
        "id": "lXDEj0h8UDJa"
      },
      "execution_count": null,
      "outputs": []
    },
    {
      "cell_type": "code",
      "source": [
        "from Crypto.Util.number import *\n",
        "data=11515195063862318899931685488813747395775516287289682636499965282714637259206269\n",
        "flag = long_to_bytes(data)\n",
        "print(flag)"
      ],
      "metadata": {
        "id": "Jt_kNazbUZDH",
        "outputId": "d9aeb4ff-a3f7-4158-a477-799ccfbb3756",
        "colab": {
          "base_uri": "https://localhost:8080/"
        }
      },
      "execution_count": null,
      "outputs": [
        {
          "output_type": "stream",
          "name": "stdout",
          "text": [
            "b'crypto{3nc0d1n6_4ll_7h3_w4y_d0wn}'\n"
          ]
        }
      ]
    }
  ],
  "metadata": {
    "colab": {
      "collapsed_sections": [],
      "name": "Cryptohack",
      "provenance": [],
      "include_colab_link": true
    },
    "kernelspec": {
      "display_name": "Python 3",
      "name": "python3"
    }
  },
  "nbformat": 4,
  "nbformat_minor": 0
}